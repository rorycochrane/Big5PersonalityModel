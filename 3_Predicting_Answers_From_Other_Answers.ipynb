{
 "cells": [
  {
   "cell_type": "markdown",
   "metadata": {},
   "source": [
    "### Import"
   ]
  },
  {
   "cell_type": "code",
   "execution_count": 1,
   "metadata": {},
   "outputs": [],
   "source": [
    "import pandas as pd\n",
    "\n",
    "from sklearn.model_selection import train_test_split\n",
    "from sklearn import neighbors\n",
    "from sklearn import tree\n",
    "from sklearn import svm\n",
    "\n",
    "import matplotlib.pyplot as plt\n",
    "%matplotlib inline"
   ]
  },
  {
   "cell_type": "markdown",
   "metadata": {},
   "source": [
    "### Read CSV File"
   ]
  },
  {
   "cell_type": "code",
   "execution_count": 2,
   "metadata": {},
   "outputs": [
    {
     "data": {
      "text/html": [
       "<div>\n",
       "<style scoped>\n",
       "    .dataframe tbody tr th:only-of-type {\n",
       "        vertical-align: middle;\n",
       "    }\n",
       "\n",
       "    .dataframe tbody tr th {\n",
       "        vertical-align: top;\n",
       "    }\n",
       "\n",
       "    .dataframe thead th {\n",
       "        text-align: right;\n",
       "    }\n",
       "</style>\n",
       "<table border=\"1\" class=\"dataframe\">\n",
       "  <thead>\n",
       "    <tr style=\"text-align: right;\">\n",
       "      <th></th>\n",
       "      <th>E1</th>\n",
       "      <th>E2</th>\n",
       "      <th>E3</th>\n",
       "      <th>E4</th>\n",
       "      <th>E5</th>\n",
       "      <th>E6</th>\n",
       "      <th>E7</th>\n",
       "      <th>E8</th>\n",
       "      <th>E9</th>\n",
       "      <th>E10</th>\n",
       "      <th>...</th>\n",
       "      <th>O1</th>\n",
       "      <th>O2</th>\n",
       "      <th>O3</th>\n",
       "      <th>O4</th>\n",
       "      <th>O5</th>\n",
       "      <th>O6</th>\n",
       "      <th>O7</th>\n",
       "      <th>O8</th>\n",
       "      <th>O9</th>\n",
       "      <th>O10</th>\n",
       "    </tr>\n",
       "  </thead>\n",
       "  <tbody>\n",
       "    <tr>\n",
       "      <th>0</th>\n",
       "      <td>4.0</td>\n",
       "      <td>4.0</td>\n",
       "      <td>5.0</td>\n",
       "      <td>4.0</td>\n",
       "      <td>5.0</td>\n",
       "      <td>5.0</td>\n",
       "      <td>4.0</td>\n",
       "      <td>3.0</td>\n",
       "      <td>5.0</td>\n",
       "      <td>5.0</td>\n",
       "      <td>...</td>\n",
       "      <td>4.0</td>\n",
       "      <td>5.0</td>\n",
       "      <td>3.0</td>\n",
       "      <td>5.0</td>\n",
       "      <td>5.0</td>\n",
       "      <td>5.0</td>\n",
       "      <td>4.0</td>\n",
       "      <td>2.0</td>\n",
       "      <td>5.0</td>\n",
       "      <td>5.0</td>\n",
       "    </tr>\n",
       "    <tr>\n",
       "      <th>1</th>\n",
       "      <td>2.0</td>\n",
       "      <td>4.0</td>\n",
       "      <td>3.0</td>\n",
       "      <td>3.0</td>\n",
       "      <td>3.0</td>\n",
       "      <td>3.0</td>\n",
       "      <td>1.0</td>\n",
       "      <td>1.0</td>\n",
       "      <td>1.0</td>\n",
       "      <td>1.0</td>\n",
       "      <td>...</td>\n",
       "      <td>3.0</td>\n",
       "      <td>3.0</td>\n",
       "      <td>3.0</td>\n",
       "      <td>3.0</td>\n",
       "      <td>2.0</td>\n",
       "      <td>3.0</td>\n",
       "      <td>3.0</td>\n",
       "      <td>1.0</td>\n",
       "      <td>3.0</td>\n",
       "      <td>2.0</td>\n",
       "    </tr>\n",
       "    <tr>\n",
       "      <th>2</th>\n",
       "      <td>5.0</td>\n",
       "      <td>5.0</td>\n",
       "      <td>1.0</td>\n",
       "      <td>2.0</td>\n",
       "      <td>5.0</td>\n",
       "      <td>5.0</td>\n",
       "      <td>1.0</td>\n",
       "      <td>1.0</td>\n",
       "      <td>5.0</td>\n",
       "      <td>5.0</td>\n",
       "      <td>...</td>\n",
       "      <td>4.0</td>\n",
       "      <td>1.0</td>\n",
       "      <td>5.0</td>\n",
       "      <td>5.0</td>\n",
       "      <td>5.0</td>\n",
       "      <td>5.0</td>\n",
       "      <td>5.0</td>\n",
       "      <td>5.0</td>\n",
       "      <td>5.0</td>\n",
       "      <td>5.0</td>\n",
       "    </tr>\n",
       "    <tr>\n",
       "      <th>3</th>\n",
       "      <td>2.0</td>\n",
       "      <td>1.0</td>\n",
       "      <td>2.0</td>\n",
       "      <td>2.0</td>\n",
       "      <td>3.0</td>\n",
       "      <td>2.0</td>\n",
       "      <td>3.0</td>\n",
       "      <td>2.0</td>\n",
       "      <td>4.0</td>\n",
       "      <td>1.0</td>\n",
       "      <td>...</td>\n",
       "      <td>4.0</td>\n",
       "      <td>3.0</td>\n",
       "      <td>5.0</td>\n",
       "      <td>4.0</td>\n",
       "      <td>4.0</td>\n",
       "      <td>4.0</td>\n",
       "      <td>5.0</td>\n",
       "      <td>2.0</td>\n",
       "      <td>5.0</td>\n",
       "      <td>5.0</td>\n",
       "    </tr>\n",
       "    <tr>\n",
       "      <th>4</th>\n",
       "      <td>3.0</td>\n",
       "      <td>5.0</td>\n",
       "      <td>3.0</td>\n",
       "      <td>3.0</td>\n",
       "      <td>3.0</td>\n",
       "      <td>5.0</td>\n",
       "      <td>3.0</td>\n",
       "      <td>5.0</td>\n",
       "      <td>3.0</td>\n",
       "      <td>1.0</td>\n",
       "      <td>...</td>\n",
       "      <td>3.0</td>\n",
       "      <td>5.0</td>\n",
       "      <td>1.0</td>\n",
       "      <td>5.0</td>\n",
       "      <td>3.0</td>\n",
       "      <td>5.0</td>\n",
       "      <td>3.0</td>\n",
       "      <td>1.0</td>\n",
       "      <td>5.0</td>\n",
       "      <td>3.0</td>\n",
       "    </tr>\n",
       "  </tbody>\n",
       "</table>\n",
       "<p>5 rows × 50 columns</p>\n",
       "</div>"
      ],
      "text/plain": [
       "    E1   E2   E3   E4   E5   E6   E7   E8   E9  E10  ...   O1   O2   O3   O4  \\\n",
       "0  4.0  4.0  5.0  4.0  5.0  5.0  4.0  3.0  5.0  5.0  ...  4.0  5.0  3.0  5.0   \n",
       "1  2.0  4.0  3.0  3.0  3.0  3.0  1.0  1.0  1.0  1.0  ...  3.0  3.0  3.0  3.0   \n",
       "2  5.0  5.0  1.0  2.0  5.0  5.0  1.0  1.0  5.0  5.0  ...  4.0  1.0  5.0  5.0   \n",
       "3  2.0  1.0  2.0  2.0  3.0  2.0  3.0  2.0  4.0  1.0  ...  4.0  3.0  5.0  4.0   \n",
       "4  3.0  5.0  3.0  3.0  3.0  5.0  3.0  5.0  3.0  1.0  ...  3.0  5.0  1.0  5.0   \n",
       "\n",
       "    O5   O6   O7   O8   O9  O10  \n",
       "0  5.0  5.0  4.0  2.0  5.0  5.0  \n",
       "1  2.0  3.0  3.0  1.0  3.0  2.0  \n",
       "2  5.0  5.0  5.0  5.0  5.0  5.0  \n",
       "3  4.0  4.0  5.0  2.0  5.0  5.0  \n",
       "4  3.0  5.0  3.0  1.0  5.0  3.0  \n",
       "\n",
       "[5 rows x 50 columns]"
      ]
     },
     "execution_count": 2,
     "metadata": {},
     "output_type": "execute_result"
    }
   ],
   "source": [
    "df = pd.read_csv('answers.csv')\n",
    "df.head()"
   ]
  },
  {
   "cell_type": "markdown",
   "metadata": {},
   "source": [
    "## Try Different Models"
   ]
  },
  {
   "cell_type": "code",
   "execution_count": 3,
   "metadata": {},
   "outputs": [],
   "source": [
    "ys = df[['E1', 'N1', 'A1', 'C1', 'O1']].columns\n",
    "y = [0]*len(ys)\n",
    "X_train = [0]*len(ys)\n",
    "X_test = [0]*len(ys)\n",
    "y_train = [0]*len(ys)\n",
    "y_test = [0]*len(ys)\n",
    "\n",
    "for num,elem in enumerate(ys, start=0):\n",
    "    y[num] = df[elem]\n",
    "    X = df[df.columns[10*num+1:10*(num+1)]]\n",
    "    X_train[num], X_test[num], y_train[num], y_test[num] = train_test_split(X,y[num],test_size=0.2)"
   ]
  },
  {
   "cell_type": "markdown",
   "metadata": {},
   "source": [
    "### Decision Tree"
   ]
  },
  {
   "cell_type": "code",
   "execution_count": 4,
   "metadata": {},
   "outputs": [],
   "source": [
    "dt_train = [0]*len(ys)\n",
    "dt_test = [0]*len(ys)\n",
    "dt = tree.DecisionTreeRegressor()\n",
    "for num in range(len(ys)):\n",
    "    dt = dt.fit(X_train[num], y_train[num])\n",
    "    dt_train[num] = dt.score(X_train[num], y_train[num])\n",
    "    dt_test[num] = dt.score(X_test[num], y_test[num])"
   ]
  },
  {
   "cell_type": "markdown",
   "metadata": {},
   "source": [
    "### SVM"
   ]
  },
  {
   "cell_type": "code",
   "execution_count": 7,
   "metadata": {},
   "outputs": [],
   "source": [
    "svm_train = [0]*len(ys)\n",
    "svm_test = [0]*len(ys)\n",
    "svm = svm.SVR()\n",
    "for num in range(len(ys)):\n",
    "    svm = svm.fit(X_train[num], y_train[num])\n",
    "    svm_train[num] = svm.score(X_train[num], y_train[num])\n",
    "    svm_test[num] = svm.score(X_test[num], y_test[num])"
   ]
  },
  {
   "cell_type": "code",
   "execution_count": 8,
   "metadata": {},
   "outputs": [
    {
     "data": {
      "text/plain": [
       "[0.41112115437025387,\n",
       " 0.4611294516060964,\n",
       " 0.11716428583457428,\n",
       " 0.30231453353742865,\n",
       " 0.4490227497602764]"
      ]
     },
     "execution_count": 8,
     "metadata": {},
     "output_type": "execute_result"
    }
   ],
   "source": [
    "svm_test"
   ]
  },
  {
   "cell_type": "code",
   "execution_count": 9,
   "metadata": {},
   "outputs": [
    {
     "data": {
      "text/plain": [
       "[0.4911436800468053,\n",
       " 0.5213646943934434,\n",
       " 0.14360426329996812,\n",
       " 0.38423013516244375,\n",
       " 0.49686953640235254]"
      ]
     },
     "execution_count": 9,
     "metadata": {},
     "output_type": "execute_result"
    }
   ],
   "source": [
    "svm_train"
   ]
  },
  {
   "cell_type": "markdown",
   "metadata": {},
   "source": [
    "### Nearest Neighbours"
   ]
  },
  {
   "cell_type": "code",
   "execution_count": 10,
   "metadata": {},
   "outputs": [],
   "source": [
    "neighbours_train = []\n",
    "neighbours_test = []\n",
    "\n",
    "for i in range(1,20):\n",
    "    knn_train = [0]*len(ys)\n",
    "    knn_test = [0]*len(ys)\n",
    "    knn = neighbors.KNeighborsRegressor(n_neighbors = i)\n",
    "    for num in range(len(ys)):\n",
    "        knn = knn.fit(X_train[num], y_train[num])\n",
    "        knn_train[num] = knn.score(X_train[num], y_train[num])\n",
    "        knn_test[num] = knn.score(X_test[num], y_test[num])\n",
    "    neighbours_train.append(knn_train)\n",
    "    neighbours_test.append(knn_test)"
   ]
  },
  {
   "cell_type": "markdown",
   "metadata": {},
   "source": [
    "# Compare Models"
   ]
  },
  {
   "cell_type": "markdown",
   "metadata": {},
   "source": [
    "### Decision Tree"
   ]
  },
  {
   "cell_type": "code",
   "execution_count": 11,
   "metadata": {},
   "outputs": [
    {
     "name": "stdout",
     "output_type": "stream",
     "text": [
      "Index(['E1', 'N1', 'A1', 'C1', 'O1'], dtype='object')\n",
      "[0.9168163980545387, 0.9307227012219054, 0.700447130408217, 0.9281482046035839, 0.8424325362958374]\n",
      "[-0.10822980996968279, -0.011800758577809045, -0.3723358487480173, -0.3631240942746483, 0.10312016936740387]\n"
     ]
    }
   ],
   "source": [
    "print(ys)\n",
    "print(dt_train)\n",
    "print(dt_test)"
   ]
  },
  {
   "cell_type": "markdown",
   "metadata": {},
   "source": [
    "### SVM"
   ]
  },
  {
   "cell_type": "code",
   "execution_count": 12,
   "metadata": {},
   "outputs": [
    {
     "name": "stdout",
     "output_type": "stream",
     "text": [
      "Index(['E1', 'N1', 'A1', 'C1', 'O1'], dtype='object')\n",
      "[0.4911436800468053, 0.5213646943934434, 0.14360426329996812, 0.38423013516244375, 0.49686953640235254]\n",
      "[0.41112115437025387, 0.4611294516060964, 0.11716428583457428, 0.30231453353742865, 0.4490227497602764]\n"
     ]
    }
   ],
   "source": [
    "print(ys)\n",
    "print(svm_train)\n",
    "print(svm_test)"
   ]
  },
  {
   "cell_type": "markdown",
   "metadata": {},
   "source": [
    "### KNN"
   ]
  },
  {
   "cell_type": "code",
   "execution_count": 13,
   "metadata": {},
   "outputs": [],
   "source": [
    "neighbours_train = pd.DataFrame(neighbours_train)\n",
    "neighbours_test = pd.DataFrame(neighbours_test)"
   ]
  },
  {
   "cell_type": "code",
   "execution_count": 14,
   "metadata": {},
   "outputs": [
    {
     "data": {
      "text/plain": [
       "<matplotlib.axes._subplots.AxesSubplot at 0x11484e4a8>"
      ]
     },
     "execution_count": 14,
     "metadata": {},
     "output_type": "execute_result"
    },
    {
     "data": {
      "image/png": "[encoded data removed]",
      "text/plain": [
       "<Figure size 432x288 with 1 Axes>"
      ]
     },
     "metadata": {},
     "output_type": "display_data"
    }
   ],
   "source": [
    "neighbours_train.columns = ys\n",
    "neighbours_train.plot()"
   ]
  },
  {
   "cell_type": "code",
   "execution_count": 15,
   "metadata": {},
   "outputs": [
    {
     "data": {
      "text/plain": [
       "<matplotlib.axes._subplots.AxesSubplot at 0x114ac6b00>"
      ]
     },
     "execution_count": 15,
     "metadata": {},
     "output_type": "execute_result"
    },
    {
     "data": {
      "image/png": "[encoded data removed]",
      "text/plain": [
       "<Figure size 432x288 with 1 Axes>"
      ]
     },
     "metadata": {},
     "output_type": "display_data"
    }
   ],
   "source": [
    "neighbours_test.columns = ys\n",
    "neighbours_test.plot()"
   ]
  },
  {
   "cell_type": "code",
   "execution_count": 16,
   "metadata": {},
   "outputs": [
    {
     "data": {
      "text/html": [
       "<div>\n",
       "<style scoped>\n",
       "    .dataframe tbody tr th:only-of-type {\n",
       "        vertical-align: middle;\n",
       "    }\n",
       "\n",
       "    .dataframe tbody tr th {\n",
       "        vertical-align: top;\n",
       "    }\n",
       "\n",
       "    .dataframe thead th {\n",
       "        text-align: right;\n",
       "    }\n",
       "</style>\n",
       "<table border=\"1\" class=\"dataframe\">\n",
       "  <thead>\n",
       "    <tr style=\"text-align: right;\">\n",
       "      <th></th>\n",
       "      <th>E1</th>\n",
       "      <th>N1</th>\n",
       "      <th>A1</th>\n",
       "      <th>C1</th>\n",
       "      <th>O1</th>\n",
       "    </tr>\n",
       "  </thead>\n",
       "  <tbody>\n",
       "    <tr>\n",
       "      <th>0</th>\n",
       "      <td>-0.079109</td>\n",
       "      <td>0.010354</td>\n",
       "      <td>-0.535171</td>\n",
       "      <td>-0.307945</td>\n",
       "      <td>-0.008483</td>\n",
       "    </tr>\n",
       "    <tr>\n",
       "      <th>1</th>\n",
       "      <td>0.194845</td>\n",
       "      <td>0.248992</td>\n",
       "      <td>-0.136847</td>\n",
       "      <td>0.004771</td>\n",
       "      <td>0.243325</td>\n",
       "    </tr>\n",
       "    <tr>\n",
       "      <th>2</th>\n",
       "      <td>0.280594</td>\n",
       "      <td>0.337777</td>\n",
       "      <td>-0.019597</td>\n",
       "      <td>0.129473</td>\n",
       "      <td>0.311452</td>\n",
       "    </tr>\n",
       "    <tr>\n",
       "      <th>3</th>\n",
       "      <td>0.322147</td>\n",
       "      <td>0.374099</td>\n",
       "      <td>0.035489</td>\n",
       "      <td>0.177944</td>\n",
       "      <td>0.354664</td>\n",
       "    </tr>\n",
       "    <tr>\n",
       "      <th>4</th>\n",
       "      <td>0.343585</td>\n",
       "      <td>0.396801</td>\n",
       "      <td>0.072251</td>\n",
       "      <td>0.214897</td>\n",
       "      <td>0.376994</td>\n",
       "    </tr>\n",
       "    <tr>\n",
       "      <th>5</th>\n",
       "      <td>0.360237</td>\n",
       "      <td>0.415692</td>\n",
       "      <td>0.089669</td>\n",
       "      <td>0.237780</td>\n",
       "      <td>0.386846</td>\n",
       "    </tr>\n",
       "    <tr>\n",
       "      <th>6</th>\n",
       "      <td>0.371612</td>\n",
       "      <td>0.424072</td>\n",
       "      <td>0.103214</td>\n",
       "      <td>0.251451</td>\n",
       "      <td>0.400150</td>\n",
       "    </tr>\n",
       "    <tr>\n",
       "      <th>7</th>\n",
       "      <td>0.383582</td>\n",
       "      <td>0.433170</td>\n",
       "      <td>0.119962</td>\n",
       "      <td>0.262003</td>\n",
       "      <td>0.408193</td>\n",
       "    </tr>\n",
       "    <tr>\n",
       "      <th>8</th>\n",
       "      <td>0.387364</td>\n",
       "      <td>0.439953</td>\n",
       "      <td>0.122895</td>\n",
       "      <td>0.265636</td>\n",
       "      <td>0.410162</td>\n",
       "    </tr>\n",
       "    <tr>\n",
       "      <th>9</th>\n",
       "      <td>0.393702</td>\n",
       "      <td>0.444808</td>\n",
       "      <td>0.131979</td>\n",
       "      <td>0.281863</td>\n",
       "      <td>0.416225</td>\n",
       "    </tr>\n",
       "    <tr>\n",
       "      <th>10</th>\n",
       "      <td>0.400767</td>\n",
       "      <td>0.448580</td>\n",
       "      <td>0.143906</td>\n",
       "      <td>0.286843</td>\n",
       "      <td>0.419729</td>\n",
       "    </tr>\n",
       "    <tr>\n",
       "      <th>11</th>\n",
       "      <td>0.402551</td>\n",
       "      <td>0.452955</td>\n",
       "      <td>0.150261</td>\n",
       "      <td>0.285861</td>\n",
       "      <td>0.427330</td>\n",
       "    </tr>\n",
       "    <tr>\n",
       "      <th>12</th>\n",
       "      <td>0.406137</td>\n",
       "      <td>0.457284</td>\n",
       "      <td>0.153984</td>\n",
       "      <td>0.293341</td>\n",
       "      <td>0.431537</td>\n",
       "    </tr>\n",
       "    <tr>\n",
       "      <th>13</th>\n",
       "      <td>0.411714</td>\n",
       "      <td>0.456638</td>\n",
       "      <td>0.159933</td>\n",
       "      <td>0.292795</td>\n",
       "      <td>0.436113</td>\n",
       "    </tr>\n",
       "    <tr>\n",
       "      <th>14</th>\n",
       "      <td>0.414423</td>\n",
       "      <td>0.458397</td>\n",
       "      <td>0.166648</td>\n",
       "      <td>0.297867</td>\n",
       "      <td>0.439418</td>\n",
       "    </tr>\n",
       "    <tr>\n",
       "      <th>15</th>\n",
       "      <td>0.414405</td>\n",
       "      <td>0.457252</td>\n",
       "      <td>0.168267</td>\n",
       "      <td>0.304139</td>\n",
       "      <td>0.439748</td>\n",
       "    </tr>\n",
       "    <tr>\n",
       "      <th>16</th>\n",
       "      <td>0.411607</td>\n",
       "      <td>0.460804</td>\n",
       "      <td>0.168303</td>\n",
       "      <td>0.305245</td>\n",
       "      <td>0.440520</td>\n",
       "    </tr>\n",
       "    <tr>\n",
       "      <th>17</th>\n",
       "      <td>0.413245</td>\n",
       "      <td>0.463425</td>\n",
       "      <td>0.171074</td>\n",
       "      <td>0.306021</td>\n",
       "      <td>0.442991</td>\n",
       "    </tr>\n",
       "    <tr>\n",
       "      <th>18</th>\n",
       "      <td>0.417300</td>\n",
       "      <td>0.461516</td>\n",
       "      <td>0.173512</td>\n",
       "      <td>0.310283</td>\n",
       "      <td>0.441052</td>\n",
       "    </tr>\n",
       "  </tbody>\n",
       "</table>\n",
       "</div>"
      ],
      "text/plain": [
       "          E1        N1        A1        C1        O1\n",
       "0  -0.079109  0.010354 -0.535171 -0.307945 -0.008483\n",
       "1   0.194845  0.248992 -0.136847  0.004771  0.243325\n",
       "2   0.280594  0.337777 -0.019597  0.129473  0.311452\n",
       "3   0.322147  0.374099  0.035489  0.177944  0.354664\n",
       "4   0.343585  0.396801  0.072251  0.214897  0.376994\n",
       "5   0.360237  0.415692  0.089669  0.237780  0.386846\n",
       "6   0.371612  0.424072  0.103214  0.251451  0.400150\n",
       "7   0.383582  0.433170  0.119962  0.262003  0.408193\n",
       "8   0.387364  0.439953  0.122895  0.265636  0.410162\n",
       "9   0.393702  0.444808  0.131979  0.281863  0.416225\n",
       "10  0.400767  0.448580  0.143906  0.286843  0.419729\n",
       "11  0.402551  0.452955  0.150261  0.285861  0.427330\n",
       "12  0.406137  0.457284  0.153984  0.293341  0.431537\n",
       "13  0.411714  0.456638  0.159933  0.292795  0.436113\n",
       "14  0.414423  0.458397  0.166648  0.297867  0.439418\n",
       "15  0.414405  0.457252  0.168267  0.304139  0.439748\n",
       "16  0.411607  0.460804  0.168303  0.305245  0.440520\n",
       "17  0.413245  0.463425  0.171074  0.306021  0.442991\n",
       "18  0.417300  0.461516  0.173512  0.310283  0.441052"
      ]
     },
     "execution_count": 16,
     "metadata": {},
     "output_type": "execute_result"
    }
   ],
   "source": [
    "neighbours_test"
   ]
  },
  {
   "cell_type": "code",
   "execution_count": null,
   "metadata": {},
   "outputs": [],
   "source": []
  }
 ],
 "metadata": {
  "kernelspec": {
   "display_name": "Python 3",
   "language": "python",
   "name": "python3"
  },
  "language_info": {
   "codemirror_mode": {
    "name": "ipython",
    "version": 3
   },
   "file_extension": ".py",
   "mimetype": "text/x-python",
   "name": "python",
   "nbconvert_exporter": "python",
   "pygments_lexer": "ipython3",
   "version": "3.5.1"
  }
 },
 "nbformat": 4,
 "nbformat_minor": 2
}
