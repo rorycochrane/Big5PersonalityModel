{
 "cells": [
  {
   "cell_type": "code",
   "execution_count": 1,
   "metadata": {},
   "outputs": [],
   "source": [
    "import pandas as pd\n",
    "\n",
    "from sklearn.model_selection import train_test_split\n",
    "from sklearn import neighbors\n",
    "from sklearn import tree\n",
    "from sklearn import svm\n",
    "\n",
    "import matplotlib.pyplot as plt\n",
    "%matplotlib inline"
   ]
  },
  {
   "cell_type": "code",
   "execution_count": 2,
   "metadata": {},
   "outputs": [
    {
     "data": {
      "text/html": [
       "<div>\n",
       "<style scoped>\n",
       "    .dataframe tbody tr th:only-of-type {\n",
       "        vertical-align: middle;\n",
       "    }\n",
       "\n",
       "    .dataframe tbody tr th {\n",
       "        vertical-align: top;\n",
       "    }\n",
       "\n",
       "    .dataframe thead th {\n",
       "        text-align: right;\n",
       "    }\n",
       "</style>\n",
       "<table border=\"1\" class=\"dataframe\">\n",
       "  <thead>\n",
       "    <tr style=\"text-align: right;\">\n",
       "      <th></th>\n",
       "      <th>Caucasian</th>\n",
       "      <th>East Asian</th>\n",
       "      <th>Indian</th>\n",
       "      <th>Mixed Race</th>\n",
       "      <th>engnat</th>\n",
       "      <th>AF</th>\n",
       "      <th>AS</th>\n",
       "      <th>EU</th>\n",
       "      <th>NA</th>\n",
       "      <th>OC</th>\n",
       "      <th>...</th>\n",
       "      <th>edu</th>\n",
       "      <th>facebook</th>\n",
       "      <th>google</th>\n",
       "      <th>test site</th>\n",
       "      <th>age</th>\n",
       "      <th>open</th>\n",
       "      <th>conc</th>\n",
       "      <th>extra</th>\n",
       "      <th>agree</th>\n",
       "      <th>neuro</th>\n",
       "    </tr>\n",
       "  </thead>\n",
       "  <tbody>\n",
       "    <tr>\n",
       "      <th>0</th>\n",
       "      <td>1</td>\n",
       "      <td>0</td>\n",
       "      <td>0</td>\n",
       "      <td>0</td>\n",
       "      <td>1</td>\n",
       "      <td>0</td>\n",
       "      <td>0</td>\n",
       "      <td>0</td>\n",
       "      <td>1</td>\n",
       "      <td>0</td>\n",
       "      <td>...</td>\n",
       "      <td>0</td>\n",
       "      <td>0</td>\n",
       "      <td>0</td>\n",
       "      <td>1</td>\n",
       "      <td>0.465909</td>\n",
       "      <td>0.825</td>\n",
       "      <td>0.925</td>\n",
       "      <td>0.850</td>\n",
       "      <td>0.900</td>\n",
       "      <td>0.025</td>\n",
       "    </tr>\n",
       "    <tr>\n",
       "      <th>1</th>\n",
       "      <td>0</td>\n",
       "      <td>0</td>\n",
       "      <td>0</td>\n",
       "      <td>0</td>\n",
       "      <td>1</td>\n",
       "      <td>0</td>\n",
       "      <td>0</td>\n",
       "      <td>0</td>\n",
       "      <td>1</td>\n",
       "      <td>0</td>\n",
       "      <td>...</td>\n",
       "      <td>0</td>\n",
       "      <td>0</td>\n",
       "      <td>0</td>\n",
       "      <td>1</td>\n",
       "      <td>0.386364</td>\n",
       "      <td>0.400</td>\n",
       "      <td>0.800</td>\n",
       "      <td>0.300</td>\n",
       "      <td>0.625</td>\n",
       "      <td>0.525</td>\n",
       "    </tr>\n",
       "    <tr>\n",
       "      <th>2</th>\n",
       "      <td>0</td>\n",
       "      <td>0</td>\n",
       "      <td>0</td>\n",
       "      <td>1</td>\n",
       "      <td>0</td>\n",
       "      <td>0</td>\n",
       "      <td>1</td>\n",
       "      <td>0</td>\n",
       "      <td>0</td>\n",
       "      <td>0</td>\n",
       "      <td>...</td>\n",
       "      <td>0</td>\n",
       "      <td>0</td>\n",
       "      <td>0</td>\n",
       "      <td>1</td>\n",
       "      <td>0.022727</td>\n",
       "      <td>0.875</td>\n",
       "      <td>0.975</td>\n",
       "      <td>0.625</td>\n",
       "      <td>0.700</td>\n",
       "      <td>0.900</td>\n",
       "    </tr>\n",
       "    <tr>\n",
       "      <th>3</th>\n",
       "      <td>1</td>\n",
       "      <td>0</td>\n",
       "      <td>0</td>\n",
       "      <td>0</td>\n",
       "      <td>0</td>\n",
       "      <td>0</td>\n",
       "      <td>0</td>\n",
       "      <td>1</td>\n",
       "      <td>0</td>\n",
       "      <td>0</td>\n",
       "      <td>...</td>\n",
       "      <td>0</td>\n",
       "      <td>0</td>\n",
       "      <td>0</td>\n",
       "      <td>1</td>\n",
       "      <td>0.079545</td>\n",
       "      <td>0.775</td>\n",
       "      <td>0.400</td>\n",
       "      <td>0.300</td>\n",
       "      <td>0.675</td>\n",
       "      <td>0.825</td>\n",
       "    </tr>\n",
       "    <tr>\n",
       "      <th>4</th>\n",
       "      <td>0</td>\n",
       "      <td>1</td>\n",
       "      <td>0</td>\n",
       "      <td>0</td>\n",
       "      <td>0</td>\n",
       "      <td>0</td>\n",
       "      <td>0</td>\n",
       "      <td>0</td>\n",
       "      <td>1</td>\n",
       "      <td>0</td>\n",
       "      <td>...</td>\n",
       "      <td>0</td>\n",
       "      <td>0</td>\n",
       "      <td>1</td>\n",
       "      <td>0</td>\n",
       "      <td>0.147727</td>\n",
       "      <td>0.600</td>\n",
       "      <td>0.600</td>\n",
       "      <td>0.600</td>\n",
       "      <td>0.850</td>\n",
       "      <td>0.500</td>\n",
       "    </tr>\n",
       "  </tbody>\n",
       "</table>\n",
       "<p>5 rows × 24 columns</p>\n",
       "</div>"
      ],
      "text/plain": [
       "   Caucasian  East Asian  Indian  Mixed Race  engnat  AF  AS  EU  NA  OC  ...  \\\n",
       "0          1           0       0           0       1   0   0   0   1   0  ...   \n",
       "1          0           0       0           0       1   0   0   0   1   0  ...   \n",
       "2          0           0       0           1       0   0   1   0   0   0  ...   \n",
       "3          1           0       0           0       0   0   0   1   0   0  ...   \n",
       "4          0           1       0           0       0   0   0   0   1   0  ...   \n",
       "\n",
       "   edu  facebook  google  test site       age   open   conc  extra  agree  \\\n",
       "0    0         0       0          1  0.465909  0.825  0.925  0.850  0.900   \n",
       "1    0         0       0          1  0.386364  0.400  0.800  0.300  0.625   \n",
       "2    0         0       0          1  0.022727  0.875  0.975  0.625  0.700   \n",
       "3    0         0       0          1  0.079545  0.775  0.400  0.300  0.675   \n",
       "4    0         0       1          0  0.147727  0.600  0.600  0.600  0.850   \n",
       "\n",
       "   neuro  \n",
       "0  0.025  \n",
       "1  0.525  \n",
       "2  0.900  \n",
       "3  0.825  \n",
       "4  0.500  \n",
       "\n",
       "[5 rows x 24 columns]"
      ]
     },
     "execution_count": 2,
     "metadata": {},
     "output_type": "execute_result"
    }
   ],
   "source": [
    "df = pd.read_csv('grouped.csv')\n",
    "df.head()"
   ]
  },
  {
   "cell_type": "markdown",
   "metadata": {},
   "source": [
    "# Train Multiple Models"
   ]
  },
  {
   "cell_type": "code",
   "execution_count": 3,
   "metadata": {},
   "outputs": [],
   "source": [
    "X = df.drop(['open', 'conc', 'extra', 'agree', 'neuro'], axis=1)\n",
    "ys = df[['open', 'conc', 'extra', 'agree', 'neuro']].columns\n",
    "y = [0]*len(ys)\n",
    "X_train = [0]*len(ys)\n",
    "X_test = [0]*len(ys)\n",
    "y_train = [0]*len(ys)\n",
    "y_test = [0]*len(ys)\n",
    "\n",
    "for num,elem in enumerate(ys, start=0):\n",
    "    y[num] = df[elem]\n",
    "    X_train[num], X_test[num], y_train[num], y_test[num] = train_test_split(X,y[num],test_size=0.2)"
   ]
  },
  {
   "cell_type": "markdown",
   "metadata": {},
   "source": [
    "### Decision Tree"
   ]
  },
  {
   "cell_type": "code",
   "execution_count": 7,
   "metadata": {},
   "outputs": [],
   "source": [
    "dt_train = [0]*len(ys)\n",
    "dt_test = [0]*len(ys)\n",
    "dt = tree.DecisionTreeRegressor()\n",
    "for num in range(len(ys)):\n",
    "    dt = dt.fit(X_train[num], y_train[num])\n",
    "    dt_train[num] = dt.score(X_train[num], y_train[num])\n",
    "    dt_test[num] = dt.score(X_test[num], y_test[num])"
   ]
  },
  {
   "cell_type": "markdown",
   "metadata": {},
   "source": [
    "## SVM"
   ]
  },
  {
   "cell_type": "code",
   "execution_count": 9,
   "metadata": {},
   "outputs": [],
   "source": [
    "svm_train = [0]*len(ys)\n",
    "svm_test = [0]*len(ys)\n",
    "svm = svm.SVR()\n",
    "for num in range(len(ys)):\n",
    "    svm = svm.fit(X_train[num], y_train[num])\n",
    "    svm_train[num] = svm.score(X_train[num], y_train[num])\n",
    "    svm_test[num] = svm.score(X_test[num], y_test[num])"
   ]
  },
  {
   "cell_type": "markdown",
   "metadata": {},
   "source": [
    "## Nearest Neighbours"
   ]
  },
  {
   "cell_type": "code",
   "execution_count": 14,
   "metadata": {},
   "outputs": [],
   "source": [
    "neighbours_train = []\n",
    "neighbours_test = []\n",
    "\n",
    "for i in range(1,20):\n",
    "    knn_train = [0]*len(ys)\n",
    "    knn_test = [0]*len(ys)\n",
    "    knn = neighbors.KNeighborsRegressor(n_neighbors = i)\n",
    "    for num in range(len(ys)):\n",
    "        knn = knn.fit(X_train[num], y_train[num])\n",
    "        knn_train[num] = knn.score(X_train[num], y_train[num])\n",
    "        knn_test[num] = knn.score(X_test[num], y_test[num])\n",
    "    neighbours_train.append(knn_train)\n",
    "    neighbours_test.append(knn_test)"
   ]
  },
  {
   "cell_type": "markdown",
   "metadata": {},
   "source": [
    "# Compare Models"
   ]
  },
  {
   "cell_type": "markdown",
   "metadata": {},
   "source": [
    "### Decision Tree"
   ]
  },
  {
   "cell_type": "code",
   "execution_count": 16,
   "metadata": {},
   "outputs": [
    {
     "name": "stdout",
     "output_type": "stream",
     "text": [
      "Index(['open', 'conc', 'extra', 'agree', 'neuro'], dtype='object')\n",
      "[0.3874952482272517, 0.3888303128860576, 0.3467203700627543, 0.4020484752583088, 0.3868037629793222]\n",
      "[-0.23143820393906767, -0.26321942069826565, -0.2969708388011676, -0.26270606669094754, -0.29103596543144206]\n"
     ]
    }
   ],
   "source": [
    "print(ys)\n",
    "print(dt_train)\n",
    "print(dt_test)"
   ]
  },
  {
   "cell_type": "markdown",
   "metadata": {},
   "source": [
    "### SVM"
   ]
  },
  {
   "cell_type": "code",
   "execution_count": 17,
   "metadata": {},
   "outputs": [
    {
     "name": "stdout",
     "output_type": "stream",
     "text": [
      "Index(['open', 'conc', 'extra', 'agree', 'neuro'], dtype='object')\n",
      "[0.09290878203255439, 0.08651298930513751, 0.03994522273298318, 0.10736335242105466, 0.09101703921085014]\n",
      "[0.05801243782311727, 0.08376528651080495, 0.027176421396259753, 0.059567650890218204, 0.0704557804332091]\n"
     ]
    }
   ],
   "source": [
    "print(ys)\n",
    "print(svm_train)\n",
    "print(svm_test)"
   ]
  },
  {
   "cell_type": "markdown",
   "metadata": {},
   "source": [
    "### KNN"
   ]
  },
  {
   "cell_type": "code",
   "execution_count": 18,
   "metadata": {},
   "outputs": [],
   "source": [
    "neighbours_train = pd.DataFrame(neighbours_train)\n",
    "neighbours_test = pd.DataFrame(neighbours_test)"
   ]
  },
  {
   "cell_type": "code",
   "execution_count": 21,
   "metadata": {},
   "outputs": [
    {
     "data": {
      "text/plain": [
       "<matplotlib.axes._subplots.AxesSubplot at 0x12325eeb8>"
      ]
     },
     "execution_count": 21,
     "metadata": {},
     "output_type": "execute_result"
    },
    {
     "data": {
      "image/png": "[encoded data removed]",
      "text/plain": [
       "<Figure size 432x288 with 1 Axes>"
      ]
     },
     "metadata": {},
     "output_type": "display_data"
    }
   ],
   "source": [
    "neighbours_train.columns = ys\n",
    "neighbours_train.plot()"
   ]
  },
  {
   "cell_type": "code",
   "execution_count": 22,
   "metadata": {},
   "outputs": [
    {
     "data": {
      "text/plain": [
       "<matplotlib.axes._subplots.AxesSubplot at 0x123591ac8>"
      ]
     },
     "execution_count": 22,
     "metadata": {},
     "output_type": "execute_result"
    },
    {
     "data": {
      "image/png": "[encoded data removed]",
      "text/plain": [
       "<Figure size 432x288 with 1 Axes>"
      ]
     },
     "metadata": {},
     "output_type": "display_data"
    }
   ],
   "source": [
    "neighbours_test.columns = ys\n",
    "neighbours_test.plot()"
   ]
  },
  {
   "cell_type": "code",
   "execution_count": 23,
   "metadata": {},
   "outputs": [
    {
     "data": {
      "text/html": [
       "<div>\n",
       "<style scoped>\n",
       "    .dataframe tbody tr th:only-of-type {\n",
       "        vertical-align: middle;\n",
       "    }\n",
       "\n",
       "    .dataframe tbody tr th {\n",
       "        vertical-align: top;\n",
       "    }\n",
       "\n",
       "    .dataframe thead th {\n",
       "        text-align: right;\n",
       "    }\n",
       "</style>\n",
       "<table border=\"1\" class=\"dataframe\">\n",
       "  <thead>\n",
       "    <tr style=\"text-align: right;\">\n",
       "      <th></th>\n",
       "      <th>open</th>\n",
       "      <th>conc</th>\n",
       "      <th>extra</th>\n",
       "      <th>agree</th>\n",
       "      <th>neuro</th>\n",
       "    </tr>\n",
       "  </thead>\n",
       "  <tbody>\n",
       "    <tr>\n",
       "      <th>0</th>\n",
       "      <td>-0.831901</td>\n",
       "      <td>-0.810387</td>\n",
       "      <td>-0.907963</td>\n",
       "      <td>-0.896135</td>\n",
       "      <td>-0.833442</td>\n",
       "    </tr>\n",
       "    <tr>\n",
       "      <th>1</th>\n",
       "      <td>-0.375898</td>\n",
       "      <td>-0.372160</td>\n",
       "      <td>-0.438027</td>\n",
       "      <td>-0.453739</td>\n",
       "      <td>-0.361520</td>\n",
       "    </tr>\n",
       "    <tr>\n",
       "      <th>2</th>\n",
       "      <td>-0.222667</td>\n",
       "      <td>-0.241469</td>\n",
       "      <td>-0.307014</td>\n",
       "      <td>-0.289248</td>\n",
       "      <td>-0.220687</td>\n",
       "    </tr>\n",
       "    <tr>\n",
       "      <th>3</th>\n",
       "      <td>-0.140612</td>\n",
       "      <td>-0.123868</td>\n",
       "      <td>-0.211660</td>\n",
       "      <td>-0.175718</td>\n",
       "      <td>-0.136952</td>\n",
       "    </tr>\n",
       "    <tr>\n",
       "      <th>4</th>\n",
       "      <td>-0.092561</td>\n",
       "      <td>-0.077375</td>\n",
       "      <td>-0.159575</td>\n",
       "      <td>-0.119385</td>\n",
       "      <td>-0.090565</td>\n",
       "    </tr>\n",
       "    <tr>\n",
       "      <th>5</th>\n",
       "      <td>-0.061204</td>\n",
       "      <td>-0.048467</td>\n",
       "      <td>-0.120428</td>\n",
       "      <td>-0.089896</td>\n",
       "      <td>-0.063963</td>\n",
       "    </tr>\n",
       "    <tr>\n",
       "      <th>6</th>\n",
       "      <td>-0.051071</td>\n",
       "      <td>-0.028368</td>\n",
       "      <td>-0.097387</td>\n",
       "      <td>-0.065732</td>\n",
       "      <td>-0.043967</td>\n",
       "    </tr>\n",
       "    <tr>\n",
       "      <th>7</th>\n",
       "      <td>-0.039725</td>\n",
       "      <td>-0.022457</td>\n",
       "      <td>-0.077832</td>\n",
       "      <td>-0.037455</td>\n",
       "      <td>-0.028521</td>\n",
       "    </tr>\n",
       "    <tr>\n",
       "      <th>8</th>\n",
       "      <td>-0.027505</td>\n",
       "      <td>-0.006084</td>\n",
       "      <td>-0.075942</td>\n",
       "      <td>-0.023594</td>\n",
       "      <td>-0.023482</td>\n",
       "    </tr>\n",
       "    <tr>\n",
       "      <th>9</th>\n",
       "      <td>-0.013995</td>\n",
       "      <td>0.001653</td>\n",
       "      <td>-0.063840</td>\n",
       "      <td>-0.015335</td>\n",
       "      <td>-0.007911</td>\n",
       "    </tr>\n",
       "    <tr>\n",
       "      <th>10</th>\n",
       "      <td>-0.009966</td>\n",
       "      <td>0.010175</td>\n",
       "      <td>-0.056414</td>\n",
       "      <td>-0.009932</td>\n",
       "      <td>-0.001329</td>\n",
       "    </tr>\n",
       "    <tr>\n",
       "      <th>11</th>\n",
       "      <td>0.000963</td>\n",
       "      <td>0.020037</td>\n",
       "      <td>-0.046592</td>\n",
       "      <td>0.002948</td>\n",
       "      <td>0.004812</td>\n",
       "    </tr>\n",
       "    <tr>\n",
       "      <th>12</th>\n",
       "      <td>0.008381</td>\n",
       "      <td>0.026676</td>\n",
       "      <td>-0.041841</td>\n",
       "      <td>0.004366</td>\n",
       "      <td>0.007975</td>\n",
       "    </tr>\n",
       "    <tr>\n",
       "      <th>13</th>\n",
       "      <td>0.010916</td>\n",
       "      <td>0.033545</td>\n",
       "      <td>-0.037075</td>\n",
       "      <td>0.009054</td>\n",
       "      <td>0.011186</td>\n",
       "    </tr>\n",
       "    <tr>\n",
       "      <th>14</th>\n",
       "      <td>0.013644</td>\n",
       "      <td>0.035197</td>\n",
       "      <td>-0.035015</td>\n",
       "      <td>0.014468</td>\n",
       "      <td>0.015207</td>\n",
       "    </tr>\n",
       "    <tr>\n",
       "      <th>15</th>\n",
       "      <td>0.017365</td>\n",
       "      <td>0.040473</td>\n",
       "      <td>-0.030946</td>\n",
       "      <td>0.015166</td>\n",
       "      <td>0.020774</td>\n",
       "    </tr>\n",
       "    <tr>\n",
       "      <th>16</th>\n",
       "      <td>0.025634</td>\n",
       "      <td>0.044426</td>\n",
       "      <td>-0.028544</td>\n",
       "      <td>0.018704</td>\n",
       "      <td>0.025953</td>\n",
       "    </tr>\n",
       "    <tr>\n",
       "      <th>17</th>\n",
       "      <td>0.029448</td>\n",
       "      <td>0.044135</td>\n",
       "      <td>-0.022378</td>\n",
       "      <td>0.024098</td>\n",
       "      <td>0.029189</td>\n",
       "    </tr>\n",
       "    <tr>\n",
       "      <th>18</th>\n",
       "      <td>0.030473</td>\n",
       "      <td>0.047428</td>\n",
       "      <td>-0.019423</td>\n",
       "      <td>0.026211</td>\n",
       "      <td>0.031925</td>\n",
       "    </tr>\n",
       "  </tbody>\n",
       "</table>\n",
       "</div>"
      ],
      "text/plain": [
       "        open      conc     extra     agree     neuro\n",
       "0  -0.831901 -0.810387 -0.907963 -0.896135 -0.833442\n",
       "1  -0.375898 -0.372160 -0.438027 -0.453739 -0.361520\n",
       "2  -0.222667 -0.241469 -0.307014 -0.289248 -0.220687\n",
       "3  -0.140612 -0.123868 -0.211660 -0.175718 -0.136952\n",
       "4  -0.092561 -0.077375 -0.159575 -0.119385 -0.090565\n",
       "5  -0.061204 -0.048467 -0.120428 -0.089896 -0.063963\n",
       "6  -0.051071 -0.028368 -0.097387 -0.065732 -0.043967\n",
       "7  -0.039725 -0.022457 -0.077832 -0.037455 -0.028521\n",
       "8  -0.027505 -0.006084 -0.075942 -0.023594 -0.023482\n",
       "9  -0.013995  0.001653 -0.063840 -0.015335 -0.007911\n",
       "10 -0.009966  0.010175 -0.056414 -0.009932 -0.001329\n",
       "11  0.000963  0.020037 -0.046592  0.002948  0.004812\n",
       "12  0.008381  0.026676 -0.041841  0.004366  0.007975\n",
       "13  0.010916  0.033545 -0.037075  0.009054  0.011186\n",
       "14  0.013644  0.035197 -0.035015  0.014468  0.015207\n",
       "15  0.017365  0.040473 -0.030946  0.015166  0.020774\n",
       "16  0.025634  0.044426 -0.028544  0.018704  0.025953\n",
       "17  0.029448  0.044135 -0.022378  0.024098  0.029189\n",
       "18  0.030473  0.047428 -0.019423  0.026211  0.031925"
      ]
     },
     "execution_count": 23,
     "metadata": {},
     "output_type": "execute_result"
    }
   ],
   "source": [
    "neighbours_test"
   ]
  },
  {
   "cell_type": "code",
   "execution_count": null,
   "metadata": {},
   "outputs": [],
   "source": []
  }
 ],
 "metadata": {
  "kernelspec": {
   "display_name": "Python 3",
   "language": "python",
   "name": "python3"
  },
  "language_info": {
   "codemirror_mode": {
    "name": "ipython",
    "version": 3
   },
   "file_extension": ".py",
   "mimetype": "text/x-python",
   "name": "python",
   "nbconvert_exporter": "python",
   "pygments_lexer": "ipython3",
   "version": "3.5.1"
  }
 },
 "nbformat": 4,
 "nbformat_minor": 2
}
